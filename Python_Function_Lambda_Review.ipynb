{
 "cells": [
  {
   "cell_type": "markdown",
   "metadata": {},
   "source": [
    "### 00 python 기호의 의미\n",
    "\n",
    "1. () 공백 : 1회\n",
    "2. \\+     : 1 ~ 무한대\n",
    "3. \\*     : 0 ~ 무한대\n",
    "4. \\?     : 0 or 1"
   ]
  },
  {
   "cell_type": "code",
   "execution_count": 16,
   "metadata": {},
   "outputs": [
    {
     "name": "stdout",
     "output_type": "stream",
     "text": [
      "(1, 2)\n",
      "<class 'tuple'>\n"
     ]
    }
   ],
   "source": [
    "def test1():\n",
    "    return 1, 2 # 괄호 없이 리턴 -> tuple type으로 반환\n",
    "\n",
    "print(test1())\n",
    "print(type(test1()))"
   ]
  },
  {
   "cell_type": "code",
   "execution_count": 15,
   "metadata": {},
   "outputs": [
    {
     "name": "stdout",
     "output_type": "stream",
     "text": [
      "1 2 3\n"
     ]
    }
   ],
   "source": [
    "def test2():\n",
    "    return 1, 2, 3        # 1, 2, 3 ... n -> v1, v2 ,v3 ... vn으로 개수를 맞춰줘야 출력됨\n",
    "\n",
    "v1, v2, v3 = test2()      # 1, 2, 3 ... n -> v1, v2 ,v3 ... vn으로 개수를 맞춰줘야 출력됨\n",
    "print(v1, v2, v3)         # print(v1, v2, v3)의 type은 무엇?"
   ]
  },
  {
   "cell_type": "markdown",
   "metadata": {},
   "source": [
    "### ---------------------------------------------------------------------------------------------------------------------------------------------------------------"
   ]
  },
  {
   "cell_type": "markdown",
   "metadata": {},
   "source": [
    "### 01 Default 인수 개념\n",
    "\n",
    "- 함수 선언시에 값을 입력하지 않았을 때 반환되는 기본값"
   ]
  },
  {
   "cell_type": "code",
   "execution_count": 29,
   "metadata": {},
   "outputs": [
    {
     "name": "stdout",
     "output_type": "stream",
     "text": [
      "홍길동 57\n",
      "박철희 28\n"
     ]
    }
   ],
   "source": [
    "def info(name=\"홍길동\", age=57):\n",
    "    print(name, age)    # () / blank : tuple,  [] : list,   {} : set\n",
    "    \n",
    "info()                  # 괄호 안을 공백으로 두고 함수 호출시 default값 출력\n",
    "info(\"박철희\", 28)"
   ]
  },
  {
   "cell_type": "markdown",
   "metadata": {},
   "source": [
    "### ---------------------------------------------------------------------------------------------------------------------------------------------------------------\n",
    "#### def blah(*argu) :      ->   ＊ : tuple  ＊＊: dict"
   ]
  },
  {
   "cell_type": "code",
   "execution_count": 47,
   "metadata": {},
   "outputs": [
    {
     "name": "stdout",
     "output_type": "stream",
     "text": [
      "<class 'dict'>\n",
      "{'x': 1, 'y': 2, 'z': 3}\n",
      "dict_items([('x', 1), ('y', 2), ('z', 3)])\n",
      "1 2 3\n"
     ]
    }
   ],
   "source": [
    "def test1(**argu):                             # * : tuple / ** : dict\n",
    "    print(type(argu))        \n",
    "    print(argu)\n",
    "    print(argu.items())                        # dict.items() 메소드. ('key', 'value') tuple in list shape\n",
    "    print(argu['x'], argu['y'], argu['z'])     # dict['key'] 출력\n",
    "    \n",
    "test1(x=1, y=2, z=3)"
   ]
  },
  {
   "cell_type": "code",
   "execution_count": 69,
   "metadata": {
    "scrolled": true
   },
   "outputs": [
    {
     "name": "stdout",
     "output_type": "stream",
     "text": [
      "x : 10\n",
      "y : 20\n",
      "z : 30\n"
     ]
    }
   ],
   "source": [
    "'''\n",
    "mission : **, for, items를 사용해서 아래와 같이 출력하시오\n",
    "x : 10\n",
    "y : 20\n",
    "z : 30\n",
    "'''\n",
    "\n",
    "def test2(**argu):\n",
    "    for v1, v2 in argu.items():\n",
    "        print(v1, \":\" ,v2)\n",
    "        \n",
    "test2(x=10, y=20, z=30)"
   ]
  },
  {
   "cell_type": "code",
   "execution_count": 70,
   "metadata": {},
   "outputs": [
    {
     "name": "stdout",
     "output_type": "stream",
     "text": [
      "x : 10\n",
      "y : 20\n",
      "z : 30\n"
     ]
    }
   ],
   "source": [
    "def test3(**argu):\n",
    "    for v in argu:\n",
    "        print(v, ':' ,argu.items())\n",
    "    \n",
    "test2(x=10, y=20, z=30)"
   ]
  },
  {
   "cell_type": "code",
   "execution_count": 100,
   "metadata": {},
   "outputs": [
    {
     "name": "stdout",
     "output_type": "stream",
     "text": [
      "a-b-c\n"
     ]
    }
   ],
   "source": [
    "def test4(*argu):\n",
    "    print('-'.join(argu))\n",
    "    \n",
    "test4('a','b','c')"
   ]
  },
  {
   "cell_type": "code",
   "execution_count": 96,
   "metadata": {},
   "outputs": [
    {
     "name": "stdout",
     "output_type": "stream",
     "text": [
      "a-b-c\n"
     ]
    }
   ],
   "source": [
    "def test4(*argu):\n",
    "    b = '-'                  # join 메소드의 구분인자를 변수로 지정할 수 있음.\n",
    "    print(b.join(argu))\n",
    "    \n",
    "test4('a', 'b', 'c')"
   ]
  },
  {
   "cell_type": "code",
   "execution_count": 94,
   "metadata": {},
   "outputs": [
    {
     "name": "stdout",
     "output_type": "stream",
     "text": [
      "a-b-c\n"
     ]
    }
   ],
   "source": [
    "def test4(*argu, b='-'):     # join 메소드의 구분인자를 변수로 지정할 수 있음.\n",
    "    print(b.join(argu))\n",
    "    \n",
    "test4('a', 'b', 'c')"
   ]
  },
  {
   "cell_type": "markdown",
   "metadata": {},
   "source": [
    "### ---------------------------------------------------------------------------------------------------------------------------------------------------------------"
   ]
  },
  {
   "cell_type": "markdown",
   "metadata": {},
   "source": [
    "### 02 임의의 인수 개념\n",
    "- 난수발생 함수 import random\n",
    "- random.randrange 메소드 활용"
   ]
  },
  {
   "cell_type": "code",
   "execution_count": 226,
   "metadata": {
    "scrolled": true
   },
   "outputs": [
    {
     "name": "stdout",
     "output_type": "stream",
     "text": [
      "35\n"
     ]
    }
   ],
   "source": [
    "# import -> '가져오기' , 외부에서 제공받은 library이고 사용시 별도 호출이 필요함\n",
    "# 난수 : 정의된 범위 내에서 무작위로 추출된 수\n",
    "\n",
    "import random as rand\n",
    "print(rand.randrange(36)) # 0 ~ 35사이의 난수 출력"
   ]
  },
  {
   "cell_type": "code",
   "execution_count": 323,
   "metadata": {
    "scrolled": true
   },
   "outputs": [
    {
     "name": "stdout",
     "output_type": "stream",
     "text": [
      "r6tnlmb"
     ]
    }
   ],
   "source": [
    "# pwdata와 random 함수를 이용해 임의의 7자리 패스워드를 만드시오.\n",
    "# suggestion code 1\n",
    "\n",
    "pwdata = \"abcdefghijklmnopqrstuvwxyz0123456789\"\n",
    "\n",
    "for p in range(7):\n",
    "    index = len(pwdata)                      # pwdata의 index값에서 난수가 발생할 수 있도록 코드 작성\n",
    "    pw = pwdata[rand.randrange(index)]       # pwdata[rand.randrange(len(pwdata))]\n",
    "    \n",
    "    print(pw, end=\"\")"
   ]
  },
  {
   "cell_type": "code",
   "execution_count": 311,
   "metadata": {
    "scrolled": true
   },
   "outputs": [
    {
     "name": "stdout",
     "output_type": "stream",
     "text": [
      "zhzgqtd\n"
     ]
    }
   ],
   "source": [
    "# pwdata와 random 함수를 이용해 임의의 7자리 패스워드를 만드시오.\n",
    "# suggestion code 2\n",
    "\n",
    "pwdata = \"abcdefghijklmnopqrstuvwxyz0123456789\"\n",
    "pswd = \"\" \n",
    "\n",
    "for p in range(7):\n",
    "    index = len(pwdata)                      # pwdata의 index값에서 난수가 발생할 수 있도록 코드 작성\n",
    "    pswd += pwdata[rand.randrange(index)]       # 비어있는 pswd변수에 난수를 추가하는 방식\n",
    "    \n",
    "print(pswd)"
   ]
  },
  {
   "cell_type": "markdown",
   "metadata": {},
   "source": [
    "### ---------------------------------------------------------------------------------------------------------------------------------------------------------------"
   ]
  },
  {
   "cell_type": "markdown",
   "metadata": {},
   "source": [
    "### 03 람다(lambda) 함수 개념\n",
    "\n",
    "- 이름없이 정의된 익명의 함수"
   ]
  },
  {
   "cell_type": "code",
   "execution_count": 362,
   "metadata": {},
   "outputs": [
    {
     "name": "stdout",
     "output_type": "stream",
     "text": [
      "20\n",
      "100\n"
     ]
    }
   ],
   "source": [
    "#          (variable)\n",
    "#   lambda 선언 v : 함수기능 작성\n",
    "x = lambda a : a + 10\n",
    "print(x(10))\n",
    "\n",
    "y = lambda a, b : a ** b     # a^b\n",
    "print(y(10, 2))"
   ]
  },
  {
   "cell_type": "code",
   "execution_count": 349,
   "metadata": {},
   "outputs": [
    {
     "name": "stdout",
     "output_type": "stream",
     "text": [
      "33\n"
     ]
    }
   ],
   "source": [
    "def mult(n):\n",
    "    return lambda a : a * n\n",
    "\n",
    "mt = mult(3)      #  3 -> n\n",
    "print(mt(11))     # 11 -> a"
   ]
  },
  {
   "cell_type": "code",
   "execution_count": 353,
   "metadata": {},
   "outputs": [
    {
     "name": "stdout",
     "output_type": "stream",
     "text": [
      "10\n",
      "10\n"
     ]
    }
   ],
   "source": [
    "def ssum(n):\n",
    "    return lambda a : a + n\n",
    "\n",
    "st = ssum(5)       # 5 -> n\n",
    "print(st(5))       # 5 -> a\n",
    "\n",
    "st2 = lambda a : a + 5\n",
    "print(st2(5))"
   ]
  },
  {
   "cell_type": "code",
   "execution_count": 377,
   "metadata": {},
   "outputs": [
    {
     "data": {
      "text/plain": [
       "[('lee', 27, 99), ('kim', 23, 100), ('park', 43, 102)]"
      ]
     },
     "execution_count": 377,
     "metadata": {},
     "output_type": "execute_result"
    }
   ],
   "source": [
    "### 이해가 안된다...\n",
    "\n",
    "mylist2 = [('kim', 23, 100), ('lee', 27, 99), ('park', 43, 102)]\n",
    "\n",
    "mylist2.sort(key=lambda a : a[2])    # 오름차순 정렬기준을 mylist2[1][2], mylist2[2][2], mylist2[3][2]값들로 삼음\n",
    "mylist2"
   ]
  },
  {
   "cell_type": "code",
   "execution_count": 389,
   "metadata": {},
   "outputs": [
    {
     "name": "stdout",
     "output_type": "stream",
     "text": [
      "['egg', 'Ham', 'Spam']\n"
     ]
    }
   ],
   "source": [
    "# 대소문자 구분없이 sort 함수로 정렬 \n",
    "# 람다 사용해서 소문자로 변경해서 정렬 \n",
    "# lower()\n",
    "\n",
    "mylist3 = ['Spam', 'egg', 'Ham']    \n",
    "\n",
    "mylist3.sort(key=lambda x : x.lower())  # 오름차순 정렬기준을 소문자로 변환한 아스키코드에 맵핑된 번호로 삼음\n",
    "print(mylist3)                          # 소문자로는 변환되지 않지만 알파벳 소문자의 아스키코드 맵핑 번호를 기준으로 정렬되었음"
   ]
  },
  {
   "cell_type": "code",
   "execution_count": 388,
   "metadata": {},
   "outputs": [
    {
     "data": {
      "text/plain": [
       "['Spam', 'Ham', 'egg']"
      ]
     },
     "execution_count": 388,
     "metadata": {},
     "output_type": "execute_result"
    }
   ],
   "source": [
    "mylist3 = ['Spam', 'egg', 'Ham']    \n",
    "\n",
    "mylist3.sort(key=lambda x : x.lower(), reverse=True)\n",
    "mylist3"
   ]
  },
  {
   "cell_type": "code",
   "execution_count": null,
   "metadata": {},
   "outputs": [],
   "source": []
  }
 ],
 "metadata": {
  "kernelspec": {
   "display_name": "Python 3",
   "language": "python",
   "name": "python3"
  },
  "language_info": {
   "codemirror_mode": {
    "name": "ipython",
    "version": 3
   },
   "file_extension": ".py",
   "mimetype": "text/x-python",
   "name": "python",
   "nbconvert_exporter": "python",
   "pygments_lexer": "ipython3",
   "version": "3.8.5"
  }
 },
 "nbformat": 4,
 "nbformat_minor": 4
}
