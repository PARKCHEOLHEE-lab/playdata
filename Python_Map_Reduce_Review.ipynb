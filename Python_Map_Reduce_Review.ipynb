{
 "cells": [
  {
   "cell_type": "markdown",
   "metadata": {},
   "source": [
    "### 00 lambda + function"
   ]
  },
  {
   "cell_type": "markdown",
   "metadata": {},
   "source": [
    "### 01 map() 함수\n",
    "\n",
    "- syntax : map(func, (list)) --> print(list)\n",
    "- 시퀀스의 모든 항목에 함수를 적용한 결과 리스트 반환\n",
    "- 다수의 데이터를 공통된 로직으로 일괄처리\n",
    "- 반복문을 사용하지 않고 처리가능"
   ]
  },
  {
   "cell_type": "code",
   "execution_count": 64,
   "metadata": {
    "scrolled": false
   },
   "outputs": [
    {
     "name": "stdout",
     "output_type": "stream",
     "text": [
      "[5, 6, 5]\n"
     ]
    }
   ],
   "source": [
    "furits = ['apple', 'banana', 'melon']\n",
    "flist = []\n",
    "\n",
    "for l in range(len(furits)):    \n",
    "    f = len(furits[l])\n",
    "    flist.append(f)\n",
    "    \n",
    "print(flist)"
   ]
  },
  {
   "cell_type": "code",
   "execution_count": 62,
   "metadata": {
    "scrolled": true
   },
   "outputs": [
    {
     "name": "stdout",
     "output_type": "stream",
     "text": [
      "[5, 6, 5]\n"
     ]
    }
   ],
   "source": [
    "def word_len(n):\n",
    "    return len(n)\n",
    "\n",
    "furits = ['apple', 'banana', 'melon']\n",
    "x = map(word_len, (furits))\n",
    "print(list(x))"
   ]
  },
  {
   "cell_type": "code",
   "execution_count": 67,
   "metadata": {},
   "outputs": [
    {
     "data": {
      "text/plain": [
       "[5, 6, 5]"
      ]
     },
     "execution_count": 67,
     "metadata": {},
     "output_type": "execute_result"
    }
   ],
   "source": [
    "furits = ['apple', 'banana', 'melon']\n",
    "\n",
    "list(map(lambda n : len(n), furits))        # lambda n : len(n) -> 함수 / furits -> 리스트"
   ]
  },
  {
   "cell_type": "code",
   "execution_count": 117,
   "metadata": {},
   "outputs": [
    {
     "name": "stdout",
     "output_type": "stream",
     "text": [
      "['p', 'a', 'l']\n"
     ]
    }
   ],
   "source": [
    "nflist = []\n",
    "\n",
    "for i in range(len(furits)):       # for i in [    ] 부분은 int type으로 떨어져야 좋을듯.\n",
    "    l = len(furits[i]) // 2        # 리스트 원소들의 중간값 \n",
    "    nf = furits[i][l]            # furits[0][2], furits[1][3], furits[2][2]\n",
    "    nflist.append(nf)\n",
    "    \n",
    "print(nflist)    "
   ]
  },
  {
   "cell_type": "markdown",
   "metadata": {},
   "source": [
    "### ---------------------------------------------------------------------------------------------------------------------------------------------------------------"
   ]
  },
  {
   "cell_type": "markdown",
   "metadata": {},
   "source": [
    "### 02 reduce() 함수\n",
    "\n",
    "- 차트 등 집계용으로 사용됨\n",
    "- functools 모듈 선언 필요"
   ]
  },
  {
   "cell_type": "code",
   "execution_count": 142,
   "metadata": {},
   "outputs": [],
   "source": [
    "from functools import reduce"
   ]
  },
  {
   "cell_type": "code",
   "execution_count": 184,
   "metadata": {
    "scrolled": true
   },
   "outputs": [
    {
     "name": "stdout",
     "output_type": "stream",
     "text": [
      "15\n"
     ]
    }
   ],
   "source": [
    "ran1 = list(range(1, 6)) # 1 ~ 5\n",
    "summ = reduce(lambda x , y : x + y, ran1)\n",
    "\n",
    "print(summ)"
   ]
  },
  {
   "cell_type": "code",
   "execution_count": 193,
   "metadata": {},
   "outputs": [
    {
     "name": "stdout",
     "output_type": "stream",
     "text": [
      "15\n"
     ]
    }
   ],
   "source": [
    "sumv = 0\n",
    "for i in ran1:\n",
    "    sumv += i\n",
    "    \n",
    "print(sumv)"
   ]
  },
  {
   "cell_type": "code",
   "execution_count": 185,
   "metadata": {},
   "outputs": [
    {
     "name": "stdout",
     "output_type": "stream",
     "text": [
      "3628800\n"
     ]
    }
   ],
   "source": [
    "ran2 = list(range(1, 11)) # 1 ~ 10\n",
    "fact = reduce(lambda x, y : x * y, ran2)         # factorial로도 사용 가능할듯 -> ex : 10!\n",
    "\n",
    "print(fact)"
   ]
  },
  {
   "cell_type": "code",
   "execution_count": 196,
   "metadata": {},
   "outputs": [
    {
     "name": "stdout",
     "output_type": "stream",
     "text": [
      "3628800\n"
     ]
    }
   ],
   "source": [
    "mltv = 1\n",
    "for i in ran2:\n",
    "    mltv *= i\n",
    "    \n",
    "print(mltv)"
   ]
  },
  {
   "cell_type": "markdown",
   "metadata": {},
   "source": [
    "### ---------------------------------------------------------------------------------------------------------------------------------------------------------------"
   ]
  },
  {
   "cell_type": "markdown",
   "metadata": {},
   "source": [
    "### 03 filter() 함수\n",
    "\n",
    "- 다수의 데이터 중 일부만 필터링해서 추출하는 기능의 함수\n",
    "- 시퀀스의 항목들 중 함수의 조건이 True인 항목만 추출"
   ]
  },
  {
   "cell_type": "code",
   "execution_count": 213,
   "metadata": {},
   "outputs": [
    {
     "data": {
      "text/plain": [
       "[5, 6, 7, 8, 9, 10]"
      ]
     },
     "execution_count": 213,
     "metadata": {},
     "output_type": "execute_result"
    }
   ],
   "source": [
    "# filter를 통해 1~10 사이의 값들 중 x가 5이상인 것들만 출력하여 리스트에 담으시오.\n",
    "\n",
    "list(filter(lambda x : x >=5, range(11)))"
   ]
  },
  {
   "cell_type": "code",
   "execution_count": 210,
   "metadata": {},
   "outputs": [
    {
     "name": "stdout",
     "output_type": "stream",
     "text": [
      "[5, 6, 7, 8, 9, 10]\n"
     ]
    }
   ],
   "source": [
    "finl = []\n",
    "for i in range(11):\n",
    "    if i >= 5:\n",
    "        finl.append(i)\n",
    "    \n",
    "print(finl)"
   ]
  },
  {
   "cell_type": "code",
   "execution_count": 233,
   "metadata": {},
   "outputs": [
    {
     "name": "stdout",
     "output_type": "stream",
     "text": [
      "<class 'tuple'>\n",
      "[37, 41, 123, 29] <class 'list'>\n",
      "(37, 41, 123, 29) <class 'tuple'>\n",
      "{41, 29, 123, 37} <class 'set'>\n"
     ]
    }
   ],
   "source": [
    "# 아래 리스트 중 filter를 이용해 홀수값을 출력하시오.\n",
    "nlist = (10,22,37,41,100,123,29)\n",
    "\n",
    "l = list(filter(lambda x : x % 2 == 1, nlist))\n",
    "t = tuple(filter(lambda x : x % 2 == 1, nlist))\n",
    "s = set(filter(lambda x : x % 2 == 1, nlist))\n",
    "\n",
    "# tuple, list, set 상호 타입변환 가능\n",
    "\n",
    "print(type(nlist))\n",
    "print(l, type(l))\n",
    "print(t, type(t))\n",
    "print(s, type(s))"
   ]
  }
 ],
 "metadata": {
  "kernelspec": {
   "display_name": "Python 3",
   "language": "python",
   "name": "python3"
  },
  "language_info": {
   "codemirror_mode": {
    "name": "ipython",
    "version": 3
   },
   "file_extension": ".py",
   "mimetype": "text/x-python",
   "name": "python",
   "nbconvert_exporter": "python",
   "pygments_lexer": "ipython3",
   "version": "3.8.5"
  }
 },
 "nbformat": 4,
 "nbformat_minor": 4
}
