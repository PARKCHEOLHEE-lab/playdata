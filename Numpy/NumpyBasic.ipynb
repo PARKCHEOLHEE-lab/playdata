{
 "cells": [
  {
   "cell_type": "markdown",
   "metadata": {},
   "source": [
    "### Shape 변환 연습: 7월 25일까지\n",
    "아래의 변환을 numpy array 데이터에서 연습해보세요."
   ]
  },
  {
   "cell_type": "markdown",
   "metadata": {},
   "source": [
    "#### [순서 바꾸기]\n",
    "    (100, 3, 256, 256) <-> (100, 256, 256, 3)"
   ]
  },
  {
   "cell_type": "code",
   "execution_count": 46,
   "metadata": {},
   "outputs": [],
   "source": [
    "import numpy as np\n",
    "import copy"
   ]
  },
  {
   "cell_type": "code",
   "execution_count": 66,
   "metadata": {},
   "outputs": [
    {
     "data": {
      "text/plain": [
       "array([100, 256, 256,   3])"
      ]
     },
     "execution_count": 66,
     "metadata": {},
     "output_type": "execute_result"
    }
   ],
   "source": [
    "# 1. 인덱스로 순서 바꾸기 1\n",
    "\n",
    "arr = np.array((100, 3, 256, 256))\n",
    "carr = copy.deepcopy(arr)\n",
    "\n",
    "arr[3] = carr[1]\n",
    "arr[1] = carr[3]\n",
    "\n",
    "arr"
   ]
  },
  {
   "cell_type": "code",
   "execution_count": 67,
   "metadata": {},
   "outputs": [
    {
     "data": {
      "text/plain": [
       "array([100, 256, 256,   3])"
      ]
     },
     "execution_count": 67,
     "metadata": {},
     "output_type": "execute_result"
    }
   ],
   "source": [
    "# 2. 인덱스로 자리 바꾸기 2\n",
    "\n",
    "arr = np.array((100, 3, 256, 256))\n",
    "\n",
    "arr[3] = arr[1]\n",
    "arr[1] = arr[2]\n",
    "\n",
    "arr"
   ]
  },
  {
   "cell_type": "code",
   "execution_count": 68,
   "metadata": {},
   "outputs": [
    {
     "data": {
      "text/plain": [
       "array([100, 256, 256,   3])"
      ]
     },
     "execution_count": 68,
     "metadata": {},
     "output_type": "execute_result"
    }
   ],
   "source": [
    "# 3. 값 직접 대입\n",
    "\n",
    "arr = np.array((100, 3, 256, 256))\n",
    "\n",
    "arr[1] = 256\n",
    "arr[3] = 3\n",
    "\n",
    "arr"
   ]
  },
  {
   "cell_type": "markdown",
   "metadata": {},
   "source": [
    "#### [차원 늘리기/줄이기]\n",
    "    (100, 100) -> (1, 100, 100) / (100, 1, 100) / (100, 100, 1) -> (100, 100)"
   ]
  },
  {
   "cell_type": "code",
   "execution_count": 103,
   "metadata": {},
   "outputs": [
    {
     "name": "stdout",
     "output_type": "stream",
     "text": [
      "[100 100]\n",
      "[  1 100 100]\n",
      "[100   1 100]\n",
      "[100 100   1]\n",
      "[100 100]\n"
     ]
    }
   ],
   "source": [
    "# 1. insert & delete 원하는 인덱스에 추가할 값 입력\n",
    "\n",
    "arr = np.array((100, 100))\n",
    "\n",
    "arr1 = np.insert(arr, 0, 1)\n",
    "arr2 = np.insert(arr, 1, 1)\n",
    "arr3 = np.insert(arr, 2, 1)\n",
    "arr4 = np.delete(arr3, 2)\n",
    "\n",
    "print(arr, arr1, arr2, arr3, arr4, sep=\"\\n\")\n"
   ]
  },
  {
   "cell_type": "code",
   "execution_count": 119,
   "metadata": {},
   "outputs": [
    {
     "name": "stdout",
     "output_type": "stream",
     "text": [
      "[100 100]\n",
      "[  1 100 100]\n",
      "[100   1 100]\n",
      "[100 100   1]\n",
      "[100 100]\n"
     ]
    }
   ],
   "source": [
    "# 2. insert & delete 원하는 인덱스에 추가할 값 입력\n",
    "\n",
    "arr = np.array((100, 100))\n",
    "print(arr)\n",
    "\n",
    "for i in range(3):\n",
    "    arr = np.insert(arr, i, 1)\n",
    "    print(arr)    \n",
    "    arr = np.delete(arr, i)\n",
    "\n",
    "print(arr)"
   ]
  },
  {
   "cell_type": "markdown",
   "metadata": {},
   "source": [
    "#### [데이터 나누기]\n",
    "    (100, 3, 256, 256) -> (100, 1, 256, 256), (100, 1, 256, 256), (100, 1, 256, 256)\n",
    "    (100, 3, 256, 256) -> (100, 3, 256, 128), (100, 3, 256, 128)"
   ]
  },
  {
   "cell_type": "code",
   "execution_count": 192,
   "metadata": {},
   "outputs": [
    {
     "data": {
      "text/plain": [
       "array([[100,   1, 256, 256],\n",
       "       [100,   1, 256, 256],\n",
       "       [100,   1, 256, 256]])"
      ]
     },
     "execution_count": 192,
     "metadata": {},
     "output_type": "execute_result"
    }
   ],
   "source": [
    "# 1. 이렇게 하는 것이 맞나?\n",
    "\n",
    "arr = np.array((100, 3, 256, 256))\n",
    "carr = np.array((100, int(arr[1]/arr[1]), 256, 256))\n",
    "\n",
    "for i in range(arr[1]+1):\n",
    "    arr = np.array([carr]*i) # arr[1]의 값만큼 배열 추가\n",
    "    \n",
    "arr"
   ]
  },
  {
   "cell_type": "code",
   "execution_count": 213,
   "metadata": {},
   "outputs": [
    {
     "name": "stdout",
     "output_type": "stream",
     "text": [
      "[array([[100,   1, 256, 256]]), array([[100,   1, 256, 256]]), array([[100,   1, 256, 256]])]\n"
     ]
    }
   ],
   "source": [
    "# 2. 이렇게 하는 것이 맞나?\n",
    "\n",
    "arr = np.array((100, 3, 256, 256))\n",
    "carr = np.array((100, int(arr[1]/arr[1]), 256, 256))\n",
    "arr_list = []\n",
    "\n",
    "for i in range(arr[1]):\n",
    "    arr_list.append(np.array([carr]))\n",
    "    \n",
    "print(arr_list)"
   ]
  },
  {
   "cell_type": "code",
   "execution_count": 186,
   "metadata": {},
   "outputs": [
    {
     "data": {
      "text/plain": [
       "array([[100,   3, 256, 128],\n",
       "       [100,   3, 256, 128]])"
      ]
     },
     "execution_count": 186,
     "metadata": {},
     "output_type": "execute_result"
    }
   ],
   "source": [
    "# 3. 이렇게 하는 것이 맞나?\n",
    "\n",
    "div_num = 2\n",
    "arr = np.array((100, 3, 256, 256))\n",
    "carr = np.array((100, 3, 256, int(arr[3]/div_num)))\n",
    "\n",
    "for i in range(div_num+1):\n",
    "    arr = np.array([carr]*i) # div_num의 값만큼 배열 추가\n",
    "    \n",
    "arr"
   ]
  },
  {
   "cell_type": "code",
   "execution_count": 214,
   "metadata": {},
   "outputs": [
    {
     "data": {
      "text/plain": [
       "array([[100,   3, 256, 128],\n",
       "       [100,   3, 256, 128]])"
      ]
     },
     "execution_count": 214,
     "metadata": {},
     "output_type": "execute_result"
    }
   ],
   "source": [
    "# 3. 이렇게 하는 것이 맞나?\n",
    "\n",
    "div_num = 2\n",
    "arr = np.array((100, 3, 256, 256))\n",
    "carr = np.array((100, 3, 256, int(arr[3]/div_num)))\n",
    "\n",
    "for i in range(div_num+1):\n",
    "    arr = np.array([carr]*i) # div_num의 값만큼 배열 추가\n",
    "    \n",
    "arr"
   ]
  },
  {
   "cell_type": "code",
   "execution_count": 225,
   "metadata": {},
   "outputs": [
    {
     "data": {
      "text/plain": [
       "[array([[100,   3, 256, 128]]), array([[100,   3, 256, 128]])]"
      ]
     },
     "execution_count": 225,
     "metadata": {},
     "output_type": "execute_result"
    }
   ],
   "source": [
    "# 3. 이렇게 하는 것이 맞나?\n",
    "\n",
    "div_num = 2\n",
    "arr = np.array((100, 3, 256, 256))\n",
    "carr = np.array((100, 3, 256, int(arr[3]/div_num)))\n",
    "arr_list = []\n",
    "\n",
    "for i in range(div_num):\n",
    "    arr_list.append(np.array([carr]))\n",
    "    \n",
    "arr_list"
   ]
  },
  {
   "cell_type": "markdown",
   "metadata": {},
   "source": [
    "#### [데이터 합치기] \n",
    "    (100, 3, 256, 256), (100, 3, 256, 256) -> (100, 6, 256, 256)\n",
    "    (100, 3, 256, 256), (100, 3, 256, 256) -> (200, 3, 256, 256)\n",
    "    (100, 3, 256, 256), (100, 3, 256, 256) -> (100, 3, 256, 512)"
   ]
  },
  {
   "cell_type": "code",
   "execution_count": 235,
   "metadata": {},
   "outputs": [
    {
     "name": "stdout",
     "output_type": "stream",
     "text": [
      "[100   6 256 256]\n",
      "[200   3 256 256]\n",
      "[100   3 256 512]\n"
     ]
    }
   ],
   "source": [
    "# 1. 이렇게 하는 것이 맞나?\n",
    "\n",
    "arr1 = np.array((100, 3, 256, 256))\n",
    "\n",
    "arr2 = np.array((100, arr1[1]+arr1[1], 256, 256))\n",
    "arr3 = np.array((arr1[0]+arr1[0], 3, 256, 256))\n",
    "arr4 = np.array((100, 3, 256, arr1[3]+arr1[3]))\n",
    "\n",
    "print(arr2, arr3, arr4, sep=\"\\n\")"
   ]
  },
  {
   "cell_type": "markdown",
   "metadata": {},
   "source": [
    "#### [평균값 구하기] \n",
    "    (100, 50, 30) -> (100, 50)\n",
    "    (100, 50, 30) -> (100, 30)\n",
    "    (100, 50, 30) -> (100)\n",
    "    (100, 50, 30) -> 값"
   ]
  },
  {
   "cell_type": "code",
   "execution_count": null,
   "metadata": {},
   "outputs": [],
   "source": [
    "# 모르겠다..."
   ]
  },
  {
   "cell_type": "markdown",
   "metadata": {},
   "source": [
    "#### [max / min 값만 뽑아서 새로운 데이터 만들기]\n",
    "    (100, 50, 30) -> (100, 50)\n",
    "    (100, 50, 30) -> (100, 30)\n",
    "    (100, 50, 30) -> (100)\n",
    "    (100, 50, 30) -> 값 "
   ]
  },
  {
   "cell_type": "code",
   "execution_count": null,
   "metadata": {},
   "outputs": [],
   "source": [
    "# 모르겠다..."
   ]
  }
 ],
 "metadata": {
  "kernelspec": {
   "display_name": "Python 3",
   "language": "python",
   "name": "python3"
  },
  "language_info": {
   "codemirror_mode": {
    "name": "ipython",
    "version": 3
   },
   "file_extension": ".py",
   "mimetype": "text/x-python",
   "name": "python",
   "nbconvert_exporter": "python",
   "pygments_lexer": "ipython3",
   "version": "3.8.5"
  },
  "toc": {
   "base_numbering": 1,
   "nav_menu": {},
   "number_sections": true,
   "sideBar": true,
   "skip_h1_title": false,
   "title_cell": "Table of Contents",
   "title_sidebar": "Contents",
   "toc_cell": false,
   "toc_position": {},
   "toc_section_display": true,
   "toc_window_display": false
  }
 },
 "nbformat": 4,
 "nbformat_minor": 4
}
