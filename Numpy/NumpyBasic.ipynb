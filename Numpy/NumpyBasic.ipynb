{
 "cells": [
  {
   "cell_type": "markdown",
   "metadata": {},
   "source": [
    "### Shape 변환 연습: 7월 25일까지\n",
    "아래의 변환을 numpy array 데이터에서 연습해보세요."
   ]
  },
  {
   "cell_type": "code",
   "execution_count": 96,
   "metadata": {},
   "outputs": [],
   "source": [
    "import numpy as np\n",
    "import copy\n",
    "import warnings\n",
    "\n",
    "warnings.filterwarnings(\"ignore\")"
   ]
  },
  {
   "cell_type": "markdown",
   "metadata": {},
   "source": [
    "#### [순서 바꾸기]\n",
    "    (100, 3, 256, 256) <-> (100, 256, 256, 3)"
   ]
  },
  {
   "cell_type": "code",
   "execution_count": 21,
   "metadata": {},
   "outputs": [
    {
     "data": {
      "text/plain": [
       "(100, 256, 256, 3)"
      ]
     },
     "execution_count": 21,
     "metadata": {},
     "output_type": "execute_result"
    }
   ],
   "source": [
    "arr = np.random.randint(1, 100, size=(100, 3, 256, 256))\n",
    "\n",
    "arr.swapaxes(1,3).shape"
   ]
  },
  {
   "cell_type": "markdown",
   "metadata": {},
   "source": [
    "#### [차원 늘리기/줄이기]\n",
    "    (100, 100) -> (1, 100, 100) / (100, 1, 100) / (100, 100, 1) -> (100, 100)"
   ]
  },
  {
   "cell_type": "code",
   "execution_count": 208,
   "metadata": {},
   "outputs": [
    {
     "name": "stdout",
     "output_type": "stream",
     "text": [
      "(100, 100)\n",
      "(1, 100, 100)\n",
      "(100, 1, 100)\n",
      "(100, 100, 1)\n",
      "(100, 100)\n"
     ]
    }
   ],
   "source": [
    "arr = np.random.randint(1,100, size=(100, 100))\n",
    "print(arr[:].shape)\n",
    "\n",
    "arr1 = arr[np.newaxis, :]\n",
    "print(arr1.shape)\n",
    "\n",
    "arr2 = arr[:, np.newaxis]\n",
    "print(arr2.shape)\n",
    "\n",
    "arr3 = arr[:, :, np.newaxis]\n",
    "print(arr3.shape)\n",
    "\n",
    "arr4 = arr3.reshape(100,100)\n",
    "print(arr4.shape)"
   ]
  },
  {
   "cell_type": "markdown",
   "metadata": {},
   "source": [
    "#### [데이터 나누기]\n",
    "    (100, 3, 256, 256) -> (100, 1, 256, 256), (100, 1, 256, 256), (100, 1, 256, 256)\n",
    "    (100, 3, 256, 256) -> (100, 3, 256, 128), (100, 3, 256, 128)"
   ]
  },
  {
   "cell_type": "code",
   "execution_count": 175,
   "metadata": {},
   "outputs": [
    {
     "ename": "ValueError",
     "evalue": "could not broadcast input array from shape (100,2,256,256) into shape (100)",
     "output_type": "error",
     "traceback": [
      "\u001b[1;31m---------------------------------------------------------------------------\u001b[0m",
      "\u001b[1;31mValueError\u001b[0m                                Traceback (most recent call last)",
      "\u001b[1;32m<ipython-input-175-b63097e6fbec>\u001b[0m in \u001b[0;36m<module>\u001b[1;34m\u001b[0m\n\u001b[0;32m      2\u001b[0m \u001b[0marr\u001b[0m \u001b[1;33m=\u001b[0m \u001b[0mnp\u001b[0m\u001b[1;33m.\u001b[0m\u001b[0mrandom\u001b[0m\u001b[1;33m.\u001b[0m\u001b[0mrandint\u001b[0m\u001b[1;33m(\u001b[0m\u001b[1;36m1\u001b[0m\u001b[1;33m,\u001b[0m \u001b[1;36m100\u001b[0m\u001b[1;33m,\u001b[0m \u001b[0msize\u001b[0m\u001b[1;33m=\u001b[0m\u001b[1;33m(\u001b[0m\u001b[1;36m100\u001b[0m\u001b[1;33m,\u001b[0m \u001b[1;36m3\u001b[0m\u001b[1;33m,\u001b[0m \u001b[1;36m256\u001b[0m\u001b[1;33m,\u001b[0m \u001b[1;36m256\u001b[0m\u001b[1;33m)\u001b[0m\u001b[1;33m)\u001b[0m\u001b[1;33m\u001b[0m\u001b[1;33m\u001b[0m\u001b[0m\n\u001b[0;32m      3\u001b[0m \u001b[1;33m\u001b[0m\u001b[0m\n\u001b[1;32m----> 4\u001b[1;33m \u001b[0mnp\u001b[0m\u001b[1;33m.\u001b[0m\u001b[0marray\u001b[0m\u001b[1;33m(\u001b[0m\u001b[0mnp\u001b[0m\u001b[1;33m.\u001b[0m\u001b[0msplit\u001b[0m\u001b[1;33m(\u001b[0m\u001b[0marr\u001b[0m\u001b[1;33m,\u001b[0m \u001b[1;33m(\u001b[0m\u001b[1;36m2\u001b[0m\u001b[1;33m,\u001b[0m\u001b[1;36m4\u001b[0m\u001b[1;33m)\u001b[0m\u001b[1;33m,\u001b[0m \u001b[0maxis\u001b[0m\u001b[1;33m=\u001b[0m\u001b[1;36m1\u001b[0m\u001b[1;33m)\u001b[0m\u001b[1;33m)\u001b[0m\u001b[1;33m.\u001b[0m\u001b[0mshape\u001b[0m\u001b[1;33m\u001b[0m\u001b[1;33m\u001b[0m\u001b[0m\n\u001b[0m\u001b[0;32m      5\u001b[0m \u001b[1;33m\u001b[0m\u001b[0m\n\u001b[0;32m      6\u001b[0m \u001b[1;31m# arr.shape\u001b[0m\u001b[1;33m\u001b[0m\u001b[1;33m\u001b[0m\u001b[1;33m\u001b[0m\u001b[0m\n",
      "\u001b[1;31mValueError\u001b[0m: could not broadcast input array from shape (100,2,256,256) into shape (100)"
     ]
    }
   ],
   "source": [
    "np.random.seed(0)\n",
    "arr = np.random.randint(1, 100, size=(100, 3, 256, 256))\n",
    "\n",
    "\n",
    "# arr.shape"
   ]
  },
  {
   "cell_type": "code",
   "execution_count": 157,
   "metadata": {},
   "outputs": [
    {
     "data": {
      "text/plain": [
       "(3, 6, 6, 2)"
      ]
     },
     "execution_count": 157,
     "metadata": {},
     "output_type": "execute_result"
    }
   ],
   "source": [
    "a = np.random.random((6,6,6))*100-50\n",
    "a.astype(int)\n",
    "a.shape\n",
    "np.array(np.dsplit(a,3)).shape"
   ]
  },
  {
   "cell_type": "code",
   "execution_count": 141,
   "metadata": {},
   "outputs": [
    {
     "data": {
      "text/plain": [
       "(5, 2)"
      ]
     },
     "execution_count": 141,
     "metadata": {},
     "output_type": "execute_result"
    }
   ],
   "source": [
    "a = np.arange(10)\n",
    "a = np.split(a, (5))\n",
    "a = np.array(a)\n",
    "a.shape"
   ]
  },
  {
   "cell_type": "markdown",
   "metadata": {},
   "source": [
    "#### [데이터 합치기] \n",
    "    (100, 3, 256, 256), (100, 3, 256, 256) -> (100, 6, 256, 256)\n",
    "    (100, 3, 256, 256), (100, 3, 256, 256) -> (200, 3, 256, 256)\n",
    "    (100, 3, 256, 256), (100, 3, 256, 256) -> (100, 3, 256, 512)"
   ]
  },
  {
   "cell_type": "code",
   "execution_count": 90,
   "metadata": {},
   "outputs": [
    {
     "name": "stdout",
     "output_type": "stream",
     "text": [
      "(100, 6, 256, 256)\n",
      "(200, 3, 256, 256)\n",
      "(100, 3, 256, 512)\n"
     ]
    }
   ],
   "source": [
    "arr1 = np.random.randint(1, 100, size=(100, 3, 256, 256))\n",
    "arr2 = np.random.randint(1, 100, size=(100, 3, 256, 256))\n",
    "\n",
    "arr3 = np.concatenate([arr1, arr2], axis=1)\n",
    "arr4 = np.concatenate([arr1, arr2], axis=0)\n",
    "arr5 = np.concatenate([arr1, arr2], axis=3)\n",
    "\n",
    "print(arr3.shape)\n",
    "print(arr4.shape)\n",
    "print(arr5.shape)"
   ]
  },
  {
   "cell_type": "markdown",
   "metadata": {},
   "source": [
    "#### [평균값 구하기] \n",
    "    (100, 50, 30) -> (100, 50)\n",
    "    (100, 50, 30) -> (100, 30)\n",
    "    (100, 50, 30) -> (100)\n",
    "    (100, 50, 30) -> 값"
   ]
  },
  {
   "cell_type": "code",
   "execution_count": 232,
   "metadata": {},
   "outputs": [
    {
     "data": {
      "text/plain": [
       "50.7478"
      ]
     },
     "execution_count": 232,
     "metadata": {},
     "output_type": "execute_result"
    }
   ],
   "source": [
    "arr = np.random.randint(1, 100, size=(100,50,50))\n",
    "np.mean(arr[:,:,2])"
   ]
  },
  {
   "cell_type": "markdown",
   "metadata": {},
   "source": [
    "#### [max / min 값만 뽑아서 새로운 데이터 만들기]\n",
    "    (100, 50, 30) -> (100, 50)\n",
    "    (100, 50, 30) -> (100, 30)\n",
    "    (100, 50, 30) -> (100)\n",
    "    (100, 50, 30) -> 값 "
   ]
  },
  {
   "cell_type": "code",
   "execution_count": null,
   "metadata": {},
   "outputs": [],
   "source": []
  }
 ],
 "metadata": {
  "kernelspec": {
   "display_name": "Python 3",
   "language": "python",
   "name": "python3"
  },
  "language_info": {
   "codemirror_mode": {
    "name": "ipython",
    "version": 3
   },
   "file_extension": ".py",
   "mimetype": "text/x-python",
   "name": "python",
   "nbconvert_exporter": "python",
   "pygments_lexer": "ipython3",
   "version": "3.8.5"
  },
  "toc": {
   "base_numbering": 1,
   "nav_menu": {},
   "number_sections": true,
   "sideBar": true,
   "skip_h1_title": false,
   "title_cell": "Table of Contents",
   "title_sidebar": "Contents",
   "toc_cell": false,
   "toc_position": {},
   "toc_section_display": true,
   "toc_window_display": false
  }
 },
 "nbformat": 4,
 "nbformat_minor": 4
}
