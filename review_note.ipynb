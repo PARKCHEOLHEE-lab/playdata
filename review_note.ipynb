{
 "cells": [
  {
   "cell_type": "markdown",
   "metadata": {},
   "source": [
    "# review 1 : pyramid"
   ]
  },
  {
   "cell_type": "code",
   "execution_count": 19,
   "metadata": {
    "scrolled": true
   },
   "outputs": [
    {
     "name": "stdout",
     "output_type": "stream",
     "text": [
      "1\n",
      "22\n",
      "333\n",
      "4444\n",
      "55555\n"
     ]
    }
   ],
   "source": [
    "def num_pyramid(n):\n",
    "    \n",
    "    for i in range(1, n+1):\n",
    "        for j in range(i):            # 여전히 이해 안됨...\n",
    "            print(i, end=\"\")\n",
    "            \n",
    "        print()\n",
    "\n",
    "num_pyramid(5)"
   ]
  },
  {
   "cell_type": "code",
   "execution_count": 17,
   "metadata": {},
   "outputs": [
    {
     "name": "stdout",
     "output_type": "stream",
     "text": [
      "*\n",
      "**\n",
      "***\n",
      "****\n",
      "*****\n"
     ]
    }
   ],
   "source": [
    "def star_pyramid(n):\n",
    "    for i in range(1, n+1):\n",
    "        print(\"*\" * i)\n",
    "        \n",
    "star_pyramid(5)\n"
   ]
  },
  {
   "cell_type": "markdown",
   "metadata": {},
   "source": [
    "# review 2 : factorial"
   ]
  },
  {
   "cell_type": "code",
   "execution_count": 24,
   "metadata": {},
   "outputs": [
    {
     "name": "stdout",
     "output_type": "stream",
     "text": [
      "120\n"
     ]
    }
   ],
   "source": [
    "n = 5\n",
    "fact = 1\n",
    "\n",
    "for i in range(1, n+1):\n",
    "    fact *= i  # fact = fact * i와 동일\n",
    "               # fact의 값이 계속 바뀜. 1*1 -> 2*3 -> 3*4 -> 4*5\n",
    "    \n",
    "print(fact)"
   ]
  },
  {
   "cell_type": "code",
   "execution_count": 31,
   "metadata": {
    "scrolled": false
   },
   "outputs": [
    {
     "name": "stdout",
     "output_type": "stream",
     "text": [
      "120\n"
     ]
    }
   ],
   "source": [
    "def factorial(n):\n",
    "    \n",
    "    fact = 1\n",
    "    \n",
    "    for i in range(1, n+1):\n",
    "        fact *= i\n",
    "    \n",
    "    print(fact)\n",
    "        \n",
    "factorial(5)"
   ]
  },
  {
   "cell_type": "code",
   "execution_count": 201,
   "metadata": {},
   "outputs": [
    {
     "data": {
      "text/plain": [
       "120"
      ]
     },
     "execution_count": 201,
     "metadata": {},
     "output_type": "execute_result"
    }
   ],
   "source": [
    "def facto(n):\n",
    "    for i in range(1, n+1):\n",
    "        if n == i:\n",
    "            return 1\n",
    "        return n * facto(n-1)\n",
    "\n",
    "facto(5)"
   ]
  },
  {
   "cell_type": "code",
   "execution_count": 203,
   "metadata": {},
   "outputs": [],
   "source": [
    "# list 내부 원소들간의 곱을 이용할 수 있는 방법이 있을까?\n",
    "\n",
    "def factorial2(n):\n",
    "    \n",
    "    fact = list(range(1, n+1))       # n값 입력시, 1부터 n+1까지의 리스트 생성 [1, 2, 3, ··· n]\n",
    "        \n",
    "    \n",
    "factorial2(5)"
   ]
  },
  {
   "cell_type": "code",
   "execution_count": null,
   "metadata": {},
   "outputs": [],
   "source": [
    "list[0]"
   ]
  },
  {
   "cell_type": "markdown",
   "metadata": {},
   "source": [
    "# review 3 : multi_table"
   ]
  },
  {
   "cell_type": "code",
   "execution_count": 2,
   "metadata": {},
   "outputs": [
    {
     "name": "stdout",
     "output_type": "stream",
     "text": [
      "2\n",
      "4\n",
      "6\n",
      "8\n",
      "10\n",
      "12\n",
      "14\n",
      "16\n",
      "18\n"
     ]
    }
   ],
   "source": [
    "n = 2\n",
    "\n",
    "for i in range(1, 10):\n",
    "n     print(n * i)"
   ]
  },
  {
   "cell_type": "code",
   "execution_count": 16,
   "metadata": {
    "scrolled": false
   },
   "outputs": [
    {
     "name": "stdout",
     "output_type": "stream",
     "text": [
      "9 단\n",
      "\n",
      "9 * 1 = 9\n",
      "9 * 2 = 18\n",
      "9 * 3 = 27\n",
      "9 * 4 = 36\n",
      "9 * 5 = 45\n",
      "9 * 6 = 54\n",
      "9 * 7 = 63\n",
      "9 * 8 = 72\n",
      "9 * 9 = 81\n"
     ]
    }
   ],
   "source": [
    "# 입력값 * 1 ~ 9를 출력\n",
    "\n",
    "def mult_table(n):\n",
    "    \n",
    "    print(n,\"단\")\n",
    "    print()\n",
    "    \n",
    "    for i in range(1, 10):\n",
    "        print(n, \"*\", i, \"=\", n * i)\n",
    "        \n",
    "mult_table(9)        "
   ]
  },
  {
   "cell_type": "code",
   "execution_count": 24,
   "metadata": {
    "scrolled": false
   },
   "outputs": [
    {
     "name": "stdout",
     "output_type": "stream",
     "text": [
      "2 단\n",
      "\n",
      "2 * 1 = 2\n",
      "2 * 2 = 4\n",
      "2 * 3 = 6\n",
      "2 * 4 = 8\n",
      "2 * 5 = 10\n",
      "2 * 6 = 12\n",
      "2 * 7 = 14\n",
      "2 * 8 = 16\n",
      "2 * 9 = 18\n"
     ]
    }
   ],
   "source": [
    "# 1 ~ 9 사이의 입력값 * 1 ~ 9를 출력\n",
    "\n",
    "def mult_table(n):\n",
    "    \n",
    "    if (n <= 0) | (n >= 10):                          # | == or,  & == and\n",
    "        print(\"1 ~ 9 사이의 숫자를 입력해주세요.\")\n",
    "        \n",
    "    else:\n",
    "        print(n,\"단\")\n",
    "        print()\n",
    "\n",
    "        for i in range(1, 10):\n",
    "            print(n, \"*\", i, \"=\", n * i)\n",
    "\n",
    "mult_table(10)        "
   ]
  },
  {
   "cell_type": "markdown",
   "metadata": {},
   "source": [
    "# review 4 : prime_number"
   ]
  },
  {
   "cell_type": "code",
   "execution_count": null,
   "metadata": {},
   "outputs": [],
   "source": [
    "# prime_number == 소수(1과 자기 자신만을 약수로 가지는 숫자)\n",
    "# 함수에 입력값 대입 시 소수인지 아닌지를 검증하는 프로그램 작성"
   ]
  },
  {
   "cell_type": "code",
   "execution_count": null,
   "metadata": {},
   "outputs": [],
   "source": []
  },
  {
   "cell_type": "code",
   "execution_count": 64,
   "metadata": {
    "scrolled": true
   },
   "outputs": [
    {
     "name": "stdout",
     "output_type": "stream",
     "text": [
      "333 은(는) 소수가 아닙니다.\n"
     ]
    }
   ],
   "source": [
    "n = 333\n",
    "\n",
    "if (n == 1) | (n == 2):\n",
    "    print(n, \"은(는) 소수입니다.\")\n",
    "    \n",
    "elif n <= 0:\n",
    "    print(\"1 이상의 값을 입력해주세요.\")\n",
    "    \n",
    "else:\n",
    "    for i in range(2, n+1):   \n",
    "        \n",
    "        if n == i:\n",
    "            print(n, \"은(는) 소수입니다.\")\n",
    "        \n",
    "        elif n % i == 0:\n",
    "            print(n, \"은(는) 소수가 아닙니다.\")\n",
    "            break                        "
   ]
  },
  {
   "cell_type": "code",
   "execution_count": 90,
   "metadata": {
    "scrolled": false
   },
   "outputs": [
    {
     "name": "stdout",
     "output_type": "stream",
     "text": [
      "검증할 숫자를 입력하십시오: 133\n",
      "133 은 소수가 아닙니다.\n"
     ]
    }
   ],
   "source": [
    "n = int(input(\"검증할 숫자를 입력하십시오: \"))\n",
    "verifi = 0           # verifi == verification variable\n",
    "\n",
    "for i in range(2, n):\n",
    "    if n % i == 0:\n",
    "        verifi = 1\n",
    "        break\n",
    "        \n",
    "if (n <= 1):\n",
    "    print(\"2이상의 값을 입력하십시오.\")        \n",
    "        \n",
    "elif (verifi == 1):\n",
    "    print(n, \"은 소수가 아닙니다.\")\n",
    "    \n",
    "else:\n",
    "    print(n, \"은 소수입니다.\")\n",
    "    \n"
   ]
  },
  {
   "cell_type": "code",
   "execution_count": 65,
   "metadata": {
    "scrolled": false
   },
   "outputs": [
    {
     "name": "stdout",
     "output_type": "stream",
     "text": [
      "검증할 숫자를 입력해 주세요 : 333\n",
      "333 은(는) 소수가 아닙니다.\n"
     ]
    }
   ],
   "source": [
    "n = int(input(\"검증할 숫자를 입력해 주세요 : \"))\n",
    "\n",
    "def prime_num(n):\n",
    "    \n",
    "    vf = 0\n",
    "    \n",
    "    for i in range(2, n):\n",
    "        if n % i == 0:\n",
    "            vf = 1\n",
    "            break\n",
    "    \n",
    "    if n <= 0:\n",
    "        print(\"2이상의 자연수를 입력해주세요.\")\n",
    "    \n",
    "    elif vf == 1:\n",
    "        print(n, \"은(는) 소수가 아닙니다.\")\n",
    "        \n",
    "    else:\n",
    "        print(n, \"은(는) 소수입니다.\") \n",
    "        \n",
    "prime_num(n)"
   ]
  },
  {
   "cell_type": "code",
   "execution_count": 100,
   "metadata": {},
   "outputs": [
    {
     "name": "stdout",
     "output_type": "stream",
     "text": [
      "2\n",
      "3\n",
      "5\n",
      "7\n",
      "11\n",
      "13\n",
      "17\n"
     ]
    }
   ],
   "source": [
    "# 1 ~ n 까지의 범위중 소수를 출력하는 프로그램\n",
    "\n",
    "n = 19\n",
    "vf = 0\n",
    "\n",
    "for i in range(1, n):        \n",
    "    \n",
    "    for j in range(2, i+1):\n",
    "        \n",
    "        if j == i:\n",
    "            print(j)\n",
    "            \n",
    "        elif i % j == 0:\n",
    "            break       "
   ]
  },
  {
   "cell_type": "markdown",
   "metadata": {},
   "source": [
    "# assignment 1 :  강정현, 이유경, 손유진, 부석민"
   ]
  },
  {
   "cell_type": "code",
   "execution_count": null,
   "metadata": {},
   "outputs": [],
   "source": [
    "'''\n",
    "\n",
    "성적에 맞는 등급을 적용하려고 한다\n",
    "\n",
    "성적을 입력시 90점이상은 'A' 등급 80점대는 'B'등급 나머지는 'C'등급으로 하고자 한다.\n",
    "\n",
    "'''"
   ]
  },
  {
   "cell_type": "code",
   "execution_count": 12,
   "metadata": {},
   "outputs": [
    {
     "name": "stdout",
     "output_type": "stream",
     "text": [
      "A+\n"
     ]
    }
   ],
   "source": [
    "def test_grade(n):\n",
    "    \n",
    "    if (n > 100) or (n < 0):\n",
    "        print(\"성적을 다시 입력하세요.\")\n",
    "    \n",
    "    elif n == 100:\n",
    "        print(\"A+\")\n",
    "        \n",
    "    elif n >= 90:\n",
    "        print(\"A\")\n",
    "        \n",
    "    elif n >= 80:\n",
    "        print(\"B\")\n",
    "        \n",
    "    else:\n",
    "        print(\"C\")\n",
    "        \n",
    "test_grade(100)\n",
    "    "
   ]
  },
  {
   "cell_type": "code",
   "execution_count": null,
   "metadata": {},
   "outputs": [],
   "source": [
    "'''\n",
    "\n",
    "1부터 100자리 숫자를 나열하고 그 중 짝수 조건에 해당하는 숫자만 가려내서 출력하고자 한다.\n",
    "\n",
    "# 1부터 100까지의 숫자 중 짝수만 출력되게 하시오. (단, 두자리 숫자만 출력되게하시오)\n",
    "    \n",
    "'''"
   ]
  },
  {
   "cell_type": "code",
   "execution_count": 48,
   "metadata": {
    "scrolled": true
   },
   "outputs": [
    {
     "name": "stdout",
     "output_type": "stream",
     "text": [
      "10\n",
      "12\n",
      "14\n",
      "16\n",
      "18\n"
     ]
    }
   ],
   "source": [
    "# 1부터 n까지 숫자 사이의 두 자리수 짝수만 출력하는 프로그램\n",
    "\n",
    "def even_num(n):\n",
    "    \n",
    "    if (n <= 0) or (n < 10):  # n이 음수이거나, n이 10보다 작을 경우 제외\n",
    "        print\n",
    "        (\"10이상의 값을 입력해주세요.\")\n",
    "    \n",
    "    for i in range(1, n+1):\n",
    "                                         \n",
    "        if i % 2 == 1:        # 임의의 값을 2로 나누었을 때의 나머지가 1(홀수)인 경우 제외\n",
    "            continue\n",
    "            \n",
    "        elif i >= 10:         # 두 자리수 이상만 출력\n",
    "            print(i)\n",
    "        \n",
    "even_num(18)"
   ]
  },
  {
   "cell_type": "code",
   "execution_count": 119,
   "metadata": {},
   "outputs": [
    {
     "name": "stdout",
     "output_type": "stream",
     "text": [
      "2\n",
      "3\n",
      "5\n",
      "7\n",
      "11\n",
      "13\n",
      "17\n",
      "19\n",
      "23\n",
      "29\n",
      "31\n",
      "37\n",
      "41\n",
      "43\n",
      "47\n"
     ]
    }
   ],
   "source": [
    "n = 50\n",
    "\n",
    "for i in range(1, n):\n",
    "    \n",
    "    for j in range(2, i+1):\n",
    "        \n",
    "        if i == j:\n",
    "            print(i)\n",
    "\n",
    "        elif i % j == 0:\n",
    "            break\n"
   ]
  },
  {
   "cell_type": "markdown",
   "metadata": {},
   "source": [
    "# assignment 2 :  류선영, 유지현, 이진의, 정주영"
   ]
  },
  {
   "cell_type": "code",
   "execution_count": null,
   "metadata": {},
   "outputs": [],
   "source": [
    "'''\n",
    "\n",
    "문제 1.\n",
    "\n",
    "A와 B가 1부터 5까지의 카드를 각각 한장씩 가지고 있다.\n",
    "\n",
    "둘 다 자신이 가진 카드를 순서대로 뽑고 난 후 뽑힌 카드의 숫자를 순서대로 비교하여 큰 수를 낸 사람이 이기는 숫자 게임을 했다.\n",
    "\n",
    "\n",
    "5개의 카드를 모두 비교하여 게임에서 이긴 사람을 출력하라.\n",
    "만약 비겼을 경우 비겼음이라고 출력한다.\n",
    "\n",
    "'''"
   ]
  },
  {
   "cell_type": "code",
   "execution_count": 197,
   "metadata": {
    "scrolled": false
   },
   "outputs": [
    {
     "name": "stdout",
     "output_type": "stream",
     "text": [
      "A 승\n"
     ]
    }
   ],
   "source": [
    "A = [3, 1, 4, 2, 5]\n",
    "B = [1, 5, 3, 4, 2]\n",
    "\n",
    "A_Win = 0\n",
    "B_Win = 0\n",
    "\n",
    "for i in range(len(A)):\n",
    "        \n",
    "    if A[i] > B[i]:\n",
    "        A_Win += 1\n",
    "\n",
    "    elif A[i] < B[i]:\n",
    "        B_Win += 1    \n",
    "\n",
    "    elif A[i] == B[i]:\n",
    "        A_Win += 0\n",
    "\n",
    "if A_Win > B_Win:\n",
    "    print(\"A 승\")\n",
    "\n",
    "elif A_Win == B_Win:\n",
    "    print(\"무승부\")\n",
    "\n",
    "else:\n",
    "    print(\"B 승\")\n",
    "    \n",
    "\n"
   ]
  },
  {
   "cell_type": "code",
   "execution_count": 195,
   "metadata": {
    "scrolled": true
   },
   "outputs": [
    {
     "name": "stdout",
     "output_type": "stream",
     "text": [
      "무승부\n"
     ]
    }
   ],
   "source": [
    "list_a = [5, 5, 5, 3, 3, 3]\n",
    "list_b = [3, 3, 3, 5, 5, 5]\n",
    "game_len = len((list_a))\n",
    "\n",
    "def game_result(a, b):\n",
    "    \n",
    "    a_win = 0   # a가 승리한 횟수\n",
    "    b_win = 0   # b가 승리한 횟수\n",
    "    draw = 0    # 무승부 횟수\n",
    "    \n",
    "    for i in range(game_len):\n",
    "        \n",
    "        if a[i] > b[i]:\n",
    "            a_win += 1     # a가 승리한 횟수 + 1\n",
    "        elif a[i] < b[i]:\n",
    "            b_win += 1     # b가 승리한 횟수 + 1\n",
    "        else:\n",
    "            draw += 1      # 무승부한 횟수 + 1\n",
    "            \n",
    "    if a_win > b_win:\n",
    "        print(\"A 승\")\n",
    "    elif a_win < b_win:\n",
    "        print(\"B 승\")\n",
    "    else:\n",
    "        print(\"무승부\")\n",
    "    \n",
    "game_result(list_a, list_b)        \n",
    "\n",
    "\n",
    "    "
   ]
  },
  {
   "cell_type": "markdown",
   "metadata": {},
   "source": [
    "# assignment 3 :  박태영, 김영민, 정일균, 이재선"
   ]
  },
  {
   "cell_type": "code",
   "execution_count": 234,
   "metadata": {},
   "outputs": [
    {
     "name": "stdout",
     "output_type": "stream",
     "text": [
      "proper\n"
     ]
    }
   ],
   "source": [
    "# 설정온도보다 입력온도가 높을 경우 \"hot\", 낮을경우 \"cold\"를 출력하는 프로그램을 작성하시오.\n",
    "\n",
    "\n",
    "def temp(inp):\n",
    "    \n",
    "    set_temp = 22\n",
    "    \n",
    "    if abs(set_temp - inp) <= 3:   # abs() = 절대값 / ±3도는 적당한 온도로 판정\n",
    "        print(\"proper\")\n",
    "        \n",
    "    elif set_temp - inp <= 0:      # 입력 온도 - 설정 온도의 값이 음수일 경우, 너무 높은 온도가 설정되어 있으므로 hot을 출력\n",
    "        print(\"hot\")\n",
    "        \n",
    "    else:\n",
    "        print(\"cold\")              # 위의 두 조건에 해당하지 않을 경우 cold를 출력\n",
    "        \n",
    "temp(20)"
   ]
  },
  {
   "cell_type": "markdown",
   "metadata": {},
   "source": [
    "# assignment 4 :  손정현, 이성규, 김수연"
   ]
  },
  {
   "cell_type": "code",
   "execution_count": null,
   "metadata": {},
   "outputs": [],
   "source": [
    "'''\n",
    "\n",
    "# 문제 1\n",
    "\n",
    "주어진 텍스트에서 어몽어스가 몇번째에 있는지 일렬로 나열하여 표현하라!                     \n",
    "예로 들어 text = [\"시민\", \"의사\",\"시민\", \"의사\", \"어몽어스\"]는 ○ ○ ○ ○ ● 와 같이 출력하여라     \n",
    "어몽어스는 ●, 시민과 의사는 ○로 표현된다. (또는 어몽어스를 X, 시민과 의사를 O로 표현하여라)                                                \n",
    "\n",
    "\n",
    "-----------------------------# Mission # --------------------------------------------------\n",
    "              text = [\"시민\", \"시민\",\"어몽어스\", \"시민\", \"의사\"]                           \n",
    " ---------------------------# Output # -------------------------------------------------- \n",
    "                               ○ ○ ● ○ ○                                                 \n",
    "-----------------------------------------------------------------------------------------\n",
    "\n",
    "'''"
   ]
  },
  {
   "cell_type": "code",
   "execution_count": 233,
   "metadata": {},
   "outputs": [
    {
     "name": "stdout",
     "output_type": "stream",
     "text": [
      "○ ○ ● ○ ○ ● ○ "
     ]
    }
   ],
   "source": [
    "def among(t_list):\n",
    "    \n",
    "    for i in range(len(t_list)):\n",
    "        if t_list[i] == '어몽어스':\n",
    "            print('●', end=' ')\n",
    "            \n",
    "        else:\n",
    "            print('○', end=' ')\n",
    "        \n",
    "among_list = ['시민', '시민', '어몽어스', '시민', '의사', '어몽어스', '시민'] \n",
    "among(among_list)"
   ]
  },
  {
   "cell_type": "code",
   "execution_count": null,
   "metadata": {},
   "outputs": [],
   "source": [
    "'''\n",
    "\n",
    "# 문제 2\n",
    "\n",
    "성규는 오늘 6월 23일 생일이다. \n",
    "기쁜 마음으로 성규는 B마트에서 가서 사고 싶은 물건을 사고자 한다. \n",
    "이때 성규가 가지고 갈 돈과 B마트에서 물건 값을 임의로 받아 사고 싶은 물건을 살 수 있을지 없을지에 대한 결과값을 나타내시오\n",
    "(결과값은 크기만 비교해도 상관없다.)\n",
    "\n",
    "# 원하는 출력 결과 화면\n",
    "\n",
    "# case1\n",
    "사고싶은 물건의 값 5000\n",
    "성규가 가져갈 돈 100\n",
    "못사요 ㅠ\n",
    "\n",
    "# case2\n",
    "사고싶은 물건의 값 5000\n",
    "성규가 가져갈 돈 10000\n",
    "충분히 살 수 있습니다.\n",
    "\n",
    "\n",
    "# case3\n",
    "사고싶은 물건의 값 100\n",
    "성규가 가져갈 돈 100\n",
    "간당간당하게 살 수 있습니다.\n",
    "\n",
    "'''"
   ]
  },
  {
   "cell_type": "code",
   "execution_count": 242,
   "metadata": {},
   "outputs": [
    {
     "name": "stdout",
     "output_type": "stream",
     "text": [
      "상품의 가격: 5000\n",
      "성규가 가져갈 돈: 10000\n",
      "충분히 살 수 있습니다.\n"
     ]
    }
   ],
   "source": [
    "price = int(input(\"상품의 가격: \"))\n",
    "money = int(input(\"성규가 가져갈 돈: \"))\n",
    "\n",
    "if money-price < 0:\n",
    "    print(\"못사요 ㅠ\")\n",
    "    \n",
    "elif money-price > 0:\n",
    "    print(\"충분히 살 수 있습니다.\")\n",
    "    \n",
    "else:\n",
    "    print(\"간당간당하게 살 수 있습니다.\")"
   ]
  },
  {
   "cell_type": "code",
   "execution_count": null,
   "metadata": {},
   "outputs": [],
   "source": [
    "# 문제 3\n",
    "\n",
    "A 회사에서 계산기를 만들어보고자 한다.\n",
    "임의의 두 수(정수)를 차례대로 넣었을 때 덧셈, 뺄셈, 곱셈, 나눗셈에 대한 값이 차례데로 나오도록 설계하시오.\n",
    "단, 아래와 같은 결과값이 나와야합니다.\n",
    "\n",
    "# 원하는 출력 결과 화면\n",
    "첫번째 숫자를 입력하세요 1\n",
    "두번째 숫자를 입력하세요 2\n",
    "더한값은 3 입니다.\n",
    "뺀값은 -1 입니다.\n",
    "곱셈한 값은 2 입니다.\n",
    "나눈값은 0입니다."
   ]
  },
  {
   "cell_type": "code",
   "execution_count": 248,
   "metadata": {},
   "outputs": [
    {
     "name": "stdout",
     "output_type": "stream",
     "text": [
      "첫 번째 숫자를 입력하세요: 1\n",
      "두 번째 숫자를 입력하세요: 2\n",
      "더한 값은:  3\n",
      "뺀 값은:  -1\n",
      "곱한 값은:  2\n",
      "나눈 값은:  0.5\n"
     ]
    }
   ],
   "source": [
    "num_1 = int(input(\"첫 번째 숫자를 입력하세요: \"))\n",
    "num_2 = int(input(\"두 번째 숫자를 입력하세요: \"))\n",
    "\n",
    "def four_calculate(num_1, num_2):\n",
    "    \n",
    "    print(\"더한 값은: \", num_1 + num_2)\n",
    "    print(\"뺀 값은: \",num_1 - num_2)\n",
    "    print(\"곱한 값은: \",num_1 * num_2)\n",
    "    print(\"나눈 값은: \",num_1 / num_2)\n",
    "    \n",
    "four_calculate(num_1, num_2)"
   ]
  },
  {
   "cell_type": "markdown",
   "metadata": {},
   "source": [
    "# assignment 5 :  윤정화, 이현수, 장수정, 천호종"
   ]
  },
  {
   "cell_type": "markdown",
   "metadata": {},
   "source": [
    "미션 1) 음식 배달비 최종 결제 금액 계산하기\n",
    "\n",
    "pizza = 15,000원\n",
    "spaghetti = 8,000원\n",
    "cola = 2,000원\n",
    "delivery = 2,000원\n",
    "\n",
    "주문자에게 pizza, spaghetti, cola를 각각 몇개씩 주문할 지 물어보고, \n",
    "음식의 총 합이 30,000원 이상이면 배달비 0원, cheeseball 을 증정\n",
    "음식의 총 합이 20,000원 이상 30,000원 미만이면 배달비 0원\n",
    "음식의 총 합이 20,000원 미만이면 배달비 2,000원을 부과 한다고 가정할 경우\n",
    "음식 배달비의 최종 결제 금액을 계산하는 프로그램을 만드시오."
   ]
  },
  {
   "cell_type": "code",
   "execution_count": 19,
   "metadata": {},
   "outputs": [
    {
     "name": "stdout",
     "output_type": "stream",
     "text": [
      "피자 주문 수량을 입력하세요: 0\n",
      "스파게티 주문 수량을 입력하세요: 0\n",
      "콜라 주문 수량을 입력하세요: 1\n",
      "최종 결제금액 : 4000\n"
     ]
    }
   ],
   "source": [
    "pl = [15000, 8000, 2000, 2000] # price_list [pizza, spaghetti, coke, delivery]\n",
    "\n",
    "piz_call = int(input(\"피자 주문 수량을 입력하세요: \"))        \n",
    "spa_call = int(input(\"스파게티 주문 수량을 입력하세요: \"))    \n",
    "cok_call = int(input(\"콜라 주문 수량을 입력하세요: \"))        \n",
    "\n",
    "def final_price(piz_call, spa_call, cok_call):\n",
    "    \n",
    "    price = (piz_call * pl[0]) + (spa_call * pl[1]) + (cok_call * pl[2])\n",
    "    \n",
    "    if price >= 30000:\n",
    "        print()\n",
    "        print(\"최종 결제금액 :\", price)\n",
    "        print(\"30000원 이상 결제시 치즈볼 증정\")\n",
    "        \n",
    "    elif 19999 < price < 29999:\n",
    "        print(\"최종 결제금액 :\", price)\n",
    "        \n",
    "    else:\n",
    "        print(\"최종 결제금액 :\", price+pl[3])        \n",
    "        \n",
    "final_price(piz_call, spa_call, cok_call)\n",
    "\n"
   ]
  },
  {
   "cell_type": "markdown",
   "metadata": {},
   "source": [
    "미션 2) 회전 초밥의 최종 결제 금액 계산하기\n",
    "\n",
    "박 사장이 운영하는 회전 초밥집은 대박이 나서 계산을 하는 일손이 부족한 실정이다.박 사장은 손님이 먹은 접시의 색을 구분하고 계산하는 기계를 요청했고 업체는 색을 구분하는 소프트웨어를 개발했다. 색을 구분한 결과가 리스트 타입으로 주어졌을 때 최종 금액을 계산하는 프로그램을 작성하시오. \n",
    "\n",
    "black : 4000\n",
    "red : 3500\n",
    "green : 3000\n",
    "yellow : 2500\n",
    "\n",
    "예시 : [\"red\", \"black\", \"green\", \"green\", \"yellow\", \"red\", \"green\", \"red\", \"black\", \"yellow\"]"
   ]
  },
  {
   "cell_type": "code",
   "execution_count": null,
   "metadata": {},
   "outputs": [],
   "source": []
  },
  {
   "cell_type": "markdown",
   "metadata": {},
   "source": [
    "# personal practice : fibonacci_numbers"
   ]
  },
  {
   "cell_type": "code",
   "execution_count": null,
   "metadata": {},
   "outputs": [],
   "source": []
  },
  {
   "cell_type": "code",
   "execution_count": null,
   "metadata": {},
   "outputs": [],
   "source": []
  },
  {
   "cell_type": "code",
   "execution_count": null,
   "metadata": {},
   "outputs": [],
   "source": []
  }
 ],
 "metadata": {
  "kernelspec": {
   "display_name": "Python 3",
   "language": "python",
   "name": "python3"
  },
  "language_info": {
   "codemirror_mode": {
    "name": "ipython",
    "version": 3
   },
   "file_extension": ".py",
   "mimetype": "text/x-python",
   "name": "python",
   "nbconvert_exporter": "python",
   "pygments_lexer": "ipython3",
   "version": "3.8.5"
  }
 },
 "nbformat": 4,
 "nbformat_minor": 4
}
